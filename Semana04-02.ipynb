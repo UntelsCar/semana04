{
 "cells": [
  {
   "cell_type": "raw",
   "id": "c772fbee-2664-48a7-95cc-267bb6d13028",
   "metadata": {},
   "source": [
    "Agenda\n",
    "1.Numeros\n",
    "2.Variables\n",
    "3.Manejo de cadenas\n",
    "4.Ingreso por el teclado\n",
    "5.Operadores"
   ]
  },
  {
   "cell_type": "raw",
   "id": "48242e7e-94d8-46ab-9761-9ee155299c6b",
   "metadata": {},
   "source": [
    "2.Variables"
   ]
  },
  {
   "cell_type": "code",
   "execution_count": 1,
   "id": "66d06e28-76a9-4602-92ae-4a1f1e515d34",
   "metadata": {},
   "outputs": [],
   "source": [
    "#Se debe iniciar siempre con una letra o un guin abajo. (Nunca con un numero u otro simbolo)"
   ]
  },
  {
   "cell_type": "code",
   "execution_count": 2,
   "id": "fa05a051-3679-4157-9e56-f93d73fb16e0",
   "metadata": {},
   "outputs": [],
   "source": [
    "edad = 22"
   ]
  },
  {
   "cell_type": "code",
   "execution_count": 3,
   "id": "e520ef93-f7b9-4620-8bdf-736b99769135",
   "metadata": {},
   "outputs": [
    {
     "data": {
      "text/plain": [
       "22"
      ]
     },
     "execution_count": 3,
     "metadata": {},
     "output_type": "execute_result"
    }
   ],
   "source": [
    "edad"
   ]
  },
  {
   "cell_type": "code",
   "execution_count": 10,
   "id": "6d46b9d2-9264-4004-aea8-c31703436615",
   "metadata": {},
   "outputs": [],
   "source": [
    "nombre = \"Carlos Joel\""
   ]
  },
  {
   "cell_type": "code",
   "execution_count": 11,
   "id": "c0680844-2b72-4cb7-81c5-95d573e1efea",
   "metadata": {},
   "outputs": [
    {
     "data": {
      "text/plain": [
       "'Carlos Joel'"
      ]
     },
     "execution_count": 11,
     "metadata": {},
     "output_type": "execute_result"
    }
   ],
   "source": [
    "nombre"
   ]
  },
  {
   "cell_type": "code",
   "execution_count": 6,
   "id": "41cb8465-7739-4b8d-b38b-25bb875be5db",
   "metadata": {},
   "outputs": [],
   "source": [
    "apellido = \"Peña Chirinos\""
   ]
  },
  {
   "cell_type": "code",
   "execution_count": 7,
   "id": "8a436ddd-839b-47b4-87f5-7e3aa07d56de",
   "metadata": {},
   "outputs": [
    {
     "data": {
      "text/plain": [
       "'Peña Chirinos'"
      ]
     },
     "execution_count": 7,
     "metadata": {},
     "output_type": "execute_result"
    }
   ],
   "source": [
    "apellido"
   ]
  },
  {
   "cell_type": "code",
   "execution_count": 13,
   "id": "43c52807-28f8-4d4e-abc4-99d74e81072a",
   "metadata": {},
   "outputs": [],
   "source": [
    "nombrecompleto = nombre + \" \" + apellido"
   ]
  },
  {
   "cell_type": "code",
   "execution_count": 14,
   "id": "ec5d7c7f-3de4-4063-8395-c05540253488",
   "metadata": {},
   "outputs": [
    {
     "data": {
      "text/plain": [
       "'Carlos Joel Peña Chirinos'"
      ]
     },
     "execution_count": 14,
     "metadata": {},
     "output_type": "execute_result"
    }
   ],
   "source": [
    "nombrecompleto"
   ]
  },
  {
   "cell_type": "code",
   "execution_count": 16,
   "id": "2e514575-0ccf-4a60-b298-f312116dcd50",
   "metadata": {},
   "outputs": [
    {
     "data": {
      "text/plain": [
       "int"
      ]
     },
     "execution_count": 16,
     "metadata": {},
     "output_type": "execute_result"
    }
   ],
   "source": [
    "#Para saber el tipo de variable utlizamos la funcion type\n",
    "#Por ejemplo\n",
    "numero =  50\n",
    "type(numero)"
   ]
  },
  {
   "cell_type": "code",
   "execution_count": 17,
   "id": "547891fe-5a36-45ac-bf17-33dac371b80e",
   "metadata": {},
   "outputs": [],
   "source": [
    "talla = 1.66"
   ]
  },
  {
   "cell_type": "code",
   "execution_count": 18,
   "id": "6911e613-7b31-4320-a38f-6eccc3862cd7",
   "metadata": {},
   "outputs": [
    {
     "data": {
      "text/plain": [
       "1.66"
      ]
     },
     "execution_count": 18,
     "metadata": {},
     "output_type": "execute_result"
    }
   ],
   "source": [
    "talla"
   ]
  },
  {
   "cell_type": "code",
   "execution_count": 19,
   "id": "3a9995b7-f648-4a3b-acfe-adb464a614f1",
   "metadata": {},
   "outputs": [
    {
     "data": {
      "text/plain": [
       "float"
      ]
     },
     "execution_count": 19,
     "metadata": {},
     "output_type": "execute_result"
    }
   ],
   "source": [
    "type(talla)"
   ]
  },
  {
   "cell_type": "code",
   "execution_count": 20,
   "id": "c8e5159e-e17e-4e23-b8ae-e30a4c85a9cf",
   "metadata": {},
   "outputs": [
    {
     "data": {
      "text/plain": [
       "'14'"
      ]
     },
     "execution_count": 20,
     "metadata": {},
     "output_type": "execute_result"
    }
   ],
   "source": [
    "numero = 14\n",
    "cadena  = str(numero)\n",
    "cadena"
   ]
  },
  {
   "cell_type": "code",
   "execution_count": 21,
   "id": "0f314470-add4-4855-ba58-3c40dde98ab3",
   "metadata": {},
   "outputs": [
    {
     "data": {
      "text/plain": [
       "50"
      ]
     },
     "execution_count": 21,
     "metadata": {},
     "output_type": "execute_result"
    }
   ],
   "source": [
    "#Para convertir una cadena a un entero utilizamos int()\n",
    "cadena2 = \"50\"\n",
    "numero2 = int(cadena2)\n",
    "numero2"
   ]
  },
  {
   "cell_type": "code",
   "execution_count": 22,
   "id": "e2383b44-d341-4e44-bd8b-43ed7513feac",
   "metadata": {},
   "outputs": [
    {
     "data": {
      "text/plain": [
       "int"
      ]
     },
     "execution_count": 22,
     "metadata": {},
     "output_type": "execute_result"
    }
   ],
   "source": [
    "type(numero2)"
   ]
  },
  {
   "cell_type": "code",
   "execution_count": 23,
   "id": "131b99f6-44ee-4b52-ad15-4596393d4bc9",
   "metadata": {},
   "outputs": [
    {
     "data": {
      "text/plain": [
       "50.0"
      ]
     },
     "execution_count": 23,
     "metadata": {},
     "output_type": "execute_result"
    }
   ],
   "source": [
    "#Para convertir una cadena a un decimal utilizamos float()\n",
    "cadena2 = \"50\"\n",
    "numero2 = float(cadena2)\n",
    "numero2"
   ]
  },
  {
   "cell_type": "code",
   "execution_count": null,
   "id": "4a7875da-1d59-4c5b-adcd-9da0b26f3ad4",
   "metadata": {},
   "outputs": [],
   "source": []
  }
 ],
 "metadata": {
  "kernelspec": {
   "display_name": "Python 3 (ipykernel)",
   "language": "python",
   "name": "python3"
  },
  "language_info": {
   "codemirror_mode": {
    "name": "ipython",
    "version": 3
   },
   "file_extension": ".py",
   "mimetype": "text/x-python",
   "name": "python",
   "nbconvert_exporter": "python",
   "pygments_lexer": "ipython3",
   "version": "3.11.7"
  }
 },
 "nbformat": 4,
 "nbformat_minor": 5
}
