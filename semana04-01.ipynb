{
 "cells": [
  {
   "cell_type": "raw",
   "id": "9da0df79-7bb6-413d-885b-f8d7536635c9",
   "metadata": {},
   "source": [
    "#SEMANA 04\n",
    "Peña Chirinos Carlos Joel"
   ]
  },
  {
   "cell_type": "raw",
   "id": "7ec86cdb-528c-49d7-9ab2-53f1bc5837b7",
   "metadata": {},
   "source": [
    "Agenda\n",
    "1.Números\n",
    "2.Variables\n",
    "3.Manejo de cadenas\n",
    "4.Ingreso por el teclado\n",
    "5.Operadores"
   ]
  },
  {
   "cell_type": "raw",
   "id": "5da156f5-38c2-4013-b903-3b0e7b3cffec",
   "metadata": {},
   "source": [
    "1. Numeros"
   ]
  },
  {
   "cell_type": "code",
   "execution_count": 2,
   "id": "ceeb3a06-7314-478a-8357-7a1c0ed5ff64",
   "metadata": {},
   "outputs": [
    {
     "data": {
      "text/plain": [
       "26"
      ]
     },
     "execution_count": 2,
     "metadata": {},
     "output_type": "execute_result"
    }
   ],
   "source": [
    "7+19"
   ]
  },
  {
   "cell_type": "code",
   "execution_count": 3,
   "id": "daa497e3-c519-4ec2-8236-5fb670e24603",
   "metadata": {},
   "outputs": [
    {
     "data": {
      "text/plain": [
       "-4"
      ]
     },
     "execution_count": 3,
     "metadata": {},
     "output_type": "execute_result"
    }
   ],
   "source": [
    "4-8"
   ]
  },
  {
   "cell_type": "code",
   "execution_count": 4,
   "id": "397024f2-1a6d-4067-a531-537ea43dbacd",
   "metadata": {},
   "outputs": [
    {
     "data": {
      "text/plain": [
       "4.5"
      ]
     },
     "execution_count": 4,
     "metadata": {},
     "output_type": "execute_result"
    }
   ],
   "source": [
    "18/4"
   ]
  },
  {
   "cell_type": "code",
   "execution_count": 5,
   "id": "eb9f94b2-20af-47b1-b9dd-1b9efca31975",
   "metadata": {},
   "outputs": [
    {
     "data": {
      "text/plain": [
       "294"
      ]
     },
     "execution_count": 5,
     "metadata": {},
     "output_type": "execute_result"
    }
   ],
   "source": [
    "3*98"
   ]
  },
  {
   "cell_type": "code",
   "execution_count": null,
   "id": "8efd89d1-0bb6-4c62-9467-d28e9d3a3a57",
   "metadata": {},
   "outputs": [],
   "source": []
  }
 ],
 "metadata": {
  "kernelspec": {
   "display_name": "Python 3 (ipykernel)",
   "language": "python",
   "name": "python3"
  },
  "language_info": {
   "codemirror_mode": {
    "name": "ipython",
    "version": 3
   },
   "file_extension": ".py",
   "mimetype": "text/x-python",
   "name": "python",
   "nbconvert_exporter": "python",
   "pygments_lexer": "ipython3",
   "version": "3.11.7"
  }
 },
 "nbformat": 4,
 "nbformat_minor": 5
}
