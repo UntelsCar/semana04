{
 "cells": [
  {
   "cell_type": "raw",
   "id": "cd714ae9-4936-439b-9b21-666e0fdede76",
   "metadata": {},
   "source": [
    "Agenda\n",
    "1.Numeros\n",
    "2.Variables\n",
    "3.Manejo de cadenas\n",
    "4.Ingreso por el teclado\n",
    "5.Operadores"
   ]
  },
  {
   "cell_type": "raw",
   "id": "68212645-dfa2-4217-9f26-d2b9440688a1",
   "metadata": {},
   "source": [
    "4.Ingreso de datos por teclado"
   ]
  },
  {
   "cell_type": "code",
   "execution_count": 1,
   "id": "1903c047-cc61-460f-a300-7d8191adc74a",
   "metadata": {},
   "outputs": [
    {
     "name": "stdout",
     "output_type": "stream",
     "text": [
      "Cual es tu nombre: \n"
     ]
    },
    {
     "name": "stdin",
     "output_type": "stream",
     "text": [
      " CArlos Peña\n"
     ]
    },
    {
     "name": "stdout",
     "output_type": "stream",
     "text": [
      "Hola CArlos Peña\n"
     ]
    }
   ],
   "source": [
    "#funcion input\n",
    "print(\"Cual es tu nombre: \")\n",
    "nombre = input()\n",
    "print(\"Hola \" + nombre)"
   ]
  },
  {
   "cell_type": "code",
   "execution_count": 2,
   "id": "b0f63b92-ca19-4fae-a6f8-884536d7f5da",
   "metadata": {},
   "outputs": [
    {
     "name": "stdout",
     "output_type": "stream",
     "text": [
      "Numero 1: \n"
     ]
    },
    {
     "name": "stdin",
     "output_type": "stream",
     "text": [
      " 2\n"
     ]
    },
    {
     "name": "stdout",
     "output_type": "stream",
     "text": [
      "Numero 2: \n"
     ]
    },
    {
     "name": "stdin",
     "output_type": "stream",
     "text": [
      " 3\n"
     ]
    },
    {
     "name": "stdout",
     "output_type": "stream",
     "text": [
      "El resultado es 5\n"
     ]
    }
   ],
   "source": [
    "#cuando ingresa un valor por teclado lo hace como cadena\n",
    "print(\"Numero 1: \")\n",
    "numero1 = input()\n",
    "print(\"Numero 2: \")\n",
    "numero2 = input()\n",
    "numero3 = int(numero1) + int(numero2)\n",
    "print(f\"El resultado es {numero3}\")"
   ]
  },
  {
   "cell_type": "code",
   "execution_count": null,
   "id": "8a6061a5-e4bb-4fb8-b707-ca6493a7b0ed",
   "metadata": {},
   "outputs": [],
   "source": []
  }
 ],
 "metadata": {
  "kernelspec": {
   "display_name": "Python 3 (ipykernel)",
   "language": "python",
   "name": "python3"
  },
  "language_info": {
   "codemirror_mode": {
    "name": "ipython",
    "version": 3
   },
   "file_extension": ".py",
   "mimetype": "text/x-python",
   "name": "python",
   "nbconvert_exporter": "python",
   "pygments_lexer": "ipython3",
   "version": "3.11.7"
  }
 },
 "nbformat": 4,
 "nbformat_minor": 5
}
