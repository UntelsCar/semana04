{
 "cells": [
  {
   "cell_type": "raw",
   "id": "aee83079-7cab-45a4-ba94-8b0380cce7a4",
   "metadata": {},
   "source": [
    "#Semana 04\n",
    "Dafne Huertas"
   ]
  },
  {
   "cell_type": "raw",
   "id": "ef7d06b4-87d5-4ae3-99f7-7d0bdf8290be",
   "metadata": {},
   "source": [
    "Agenda\n",
    "1.Numeros\n",
    "2.Variables\n",
    "3.Manejo de cadenas\n",
    "4.Ingreso por el teclado\n",
    "5.Operadoress"
   ]
  },
  {
   "cell_type": "raw",
   "id": "df9a2fe2-8534-49ef-8794-6ee34d0e6e3a",
   "metadata": {},
   "source": [
    "3. Manjeo de cadenas"
   ]
  },
  {
   "cell_type": "code",
   "execution_count": 1,
   "id": "872c08a2-2d05-436e-98df-4aa79de926ee",
   "metadata": {},
   "outputs": [
    {
     "data": {
      "text/plain": [
       "'Universidad nacional tecnologica de lima sur'"
      ]
     },
     "execution_count": 1,
     "metadata": {},
     "output_type": "execute_result"
    }
   ],
   "source": [
    "cadena = \"Universidad nacional tecnologica de lima sur\"\n",
    "cadena"
   ]
  },
  {
   "cell_type": "code",
   "execution_count": 2,
   "id": "3eb655db-b1fc-4792-8952-8a0975ee132e",
   "metadata": {},
   "outputs": [],
   "source": [
    "#Universidad nacional tecnologica de lima sur(0,1,2,3,4)"
   ]
  },
  {
   "cell_type": "code",
   "execution_count": 3,
   "id": "15343472-51d5-48bb-86bd-b2d55746ad28",
   "metadata": {},
   "outputs": [
    {
     "data": {
      "text/plain": [
       "'r'"
      ]
     },
     "execution_count": 3,
     "metadata": {},
     "output_type": "execute_result"
    }
   ],
   "source": [
    "cadena[5]"
   ]
  },
  {
   "cell_type": "code",
   "execution_count": 4,
   "id": "1379d3cb-f51d-440e-b916-d068ce2eb5d8",
   "metadata": {},
   "outputs": [
    {
     "data": {
      "text/plain": [
       "' '"
      ]
     },
     "execution_count": 4,
     "metadata": {},
     "output_type": "execute_result"
    }
   ],
   "source": [
    "cadena[11]"
   ]
  },
  {
   "cell_type": "code",
   "execution_count": 5,
   "id": "aa7ea821-bb82-4b5c-bef7-f7313a7f7136",
   "metadata": {},
   "outputs": [
    {
     "data": {
      "text/plain": [
       "'t'"
      ]
     },
     "execution_count": 5,
     "metadata": {},
     "output_type": "execute_result"
    }
   ],
   "source": [
    "cadena[-23]"
   ]
  },
  {
   "cell_type": "code",
   "execution_count": 6,
   "id": "3bc1d59b-a0e3-46c4-a12f-a4bfe84b66c4",
   "metadata": {},
   "outputs": [
    {
     "data": {
      "text/plain": [
       "'versi'"
      ]
     },
     "execution_count": 6,
     "metadata": {},
     "output_type": "execute_result"
    }
   ],
   "source": [
    "#Para mostrar una subcadena [desde, hasta una antes]\n",
    "cadena[3:8]"
   ]
  },
  {
   "cell_type": "code",
   "execution_count": 7,
   "id": "b79f033f-59d5-4542-9e2a-0830fc90ddaf",
   "metadata": {},
   "outputs": [
    {
     "data": {
      "text/plain": [
       "44"
      ]
     },
     "execution_count": 7,
     "metadata": {},
     "output_type": "execute_result"
    }
   ],
   "source": [
    "#tamaño de cadena\n",
    "len(cadena)"
   ]
  },
  {
   "cell_type": "code",
   "execution_count": 9,
   "id": "d681d71e-a276-4a7e-b470-11cdd17e4c7e",
   "metadata": {},
   "outputs": [
    {
     "data": {
      "text/plain": [
       "'UNIVERSIDAD NACIONAL TECNOLOGICA DE LIMA SUR'"
      ]
     },
     "execution_count": 9,
     "metadata": {},
     "output_type": "execute_result"
    }
   ],
   "source": [
    "#Para mostarr una cadena en mayuscula\n",
    "cadena.upper()"
   ]
  },
  {
   "cell_type": "code",
   "execution_count": 10,
   "id": "22f1fde6-dca0-4b53-9863-27a3a5555d4a",
   "metadata": {},
   "outputs": [
    {
     "data": {
      "text/plain": [
       "'universidad nacional tecnologica de lima sur'"
      ]
     },
     "execution_count": 10,
     "metadata": {},
     "output_type": "execute_result"
    }
   ],
   "source": [
    "cadena.lower()"
   ]
  },
  {
   "cell_type": "code",
   "execution_count": 11,
   "id": "29418b57-b456-49cf-9375-9c5432a46daf",
   "metadata": {},
   "outputs": [
    {
     "data": {
      "text/plain": [
       "['Universidad', 'nacional', 'tecnologica', 'de', 'lima', 'sur']"
      ]
     },
     "execution_count": 11,
     "metadata": {},
     "output_type": "execute_result"
    }
   ],
   "source": [
    "#generar una lista a partir de una cadena. split()\n",
    "cadena.split()"
   ]
  },
  {
   "cell_type": "code",
   "execution_count": 12,
   "id": "7b360be3-1d45-4a5a-9f72-61c3e9016b24",
   "metadata": {},
   "outputs": [
    {
     "data": {
      "text/plain": [
       "['Universid', 'd n', 'cion', 'l tecnologic', ' de lim', ' sur']"
      ]
     },
     "execution_count": 12,
     "metadata": {},
     "output_type": "execute_result"
    }
   ],
   "source": [
    "cadena.split(\"a\")"
   ]
  },
  {
   "cell_type": "code",
   "execution_count": 13,
   "id": "8a0b80be-380a-4c77-ab04-f20c528737bd",
   "metadata": {},
   "outputs": [
    {
     "name": "stdout",
     "output_type": "stream",
     "text": [
      "Buenas Tardes Carlos Peña tienes 22 años\n"
     ]
    }
   ],
   "source": [
    "nombre = \"Carlos Peña\"\n",
    "edad = 22\n",
    "años = str(edad)\n",
    "print(\"Buenas Tardes \" + nombre + \" tienes \" + años + \" años\")"
   ]
  },
  {
   "cell_type": "code",
   "execution_count": 14,
   "id": "1b93281d-4c50-47d7-a2bf-d91582204582",
   "metadata": {},
   "outputs": [
    {
     "name": "stdout",
     "output_type": "stream",
     "text": [
      "10/3 es = 3.3333333333333335 \n",
      "10/3 es = 3.33 \n"
     ]
    }
   ],
   "source": [
    "#dar formato a numeros con muchos decimales\n",
    "resultado = 10/3\n",
    "print(\"10/3 es = {} \".format(resultado))\n",
    "print(\"10/3 es = {r:1.2f} \".format(r=resultado))"
   ]
  },
  {
   "cell_type": "code",
   "execution_count": 15,
   "id": "d52fe44f-b02b-461d-b6cb-f9317452d542",
   "metadata": {},
   "outputs": [
    {
     "name": "stdout",
     "output_type": "stream",
     "text": [
      "Buenos dias Carlos Peña, ya que se que tienes 22 años\n"
     ]
    }
   ],
   "source": [
    "#dar formato con f\n",
    "nombre = \"Carlos Peña\"\n",
    "edad = 22\n",
    "print(f\"Buenos dias {nombre}, ya que se que tienes {edad} años\")"
   ]
  },
  {
   "cell_type": "code",
   "execution_count": null,
   "id": "997e28a6-46d1-4dea-9bfb-7ebc0dd4a6c0",
   "metadata": {},
   "outputs": [],
   "source": []
  }
 ],
 "metadata": {
  "kernelspec": {
   "display_name": "Python 3 (ipykernel)",
   "language": "python",
   "name": "python3"
  },
  "language_info": {
   "codemirror_mode": {
    "name": "ipython",
    "version": 3
   },
   "file_extension": ".py",
   "mimetype": "text/x-python",
   "name": "python",
   "nbconvert_exporter": "python",
   "pygments_lexer": "ipython3",
   "version": "3.11.7"
  }
 },
 "nbformat": 4,
 "nbformat_minor": 5
}
